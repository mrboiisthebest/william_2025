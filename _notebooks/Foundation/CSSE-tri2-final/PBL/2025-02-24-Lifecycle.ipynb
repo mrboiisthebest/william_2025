{
 "cells": [
  {
   "cell_type": "raw",
   "metadata": {
    "vscode": {
     "languageId": "raw"
    }
   },
   "source": [
    "---\n",
    "toc: true\n",
    "layout: post\n",
    "title: LifeCycle\n",
    "description: Source control, forking, branching, building, testing and verification, pull requests, merging, deployment\n",
    "\n",
    "permalink: cssefinaltri2/lifecycle\n",
    "---"
   ]
  }
 ],
 "metadata": {
  "language_info": {
   "name": "python"
  }
 },
 "nbformat": 4,
 "nbformat_minor": 2
}
