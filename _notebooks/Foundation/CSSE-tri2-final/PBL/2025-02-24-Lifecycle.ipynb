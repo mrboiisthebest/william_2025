{
 "cells": [
  {
   "cell_type": "raw",
   "metadata": {
    "vscode": {
     "languageId": "raw"
    }
   },
   "source": [
    "---\n",
    "toc: true\n",
    "layout: post\n",
    "title: LifeCycle\n",
    "description: Source control, forking, branching, building, testing and verification, pull requests, merging, deployment\n",
    "\n",
    "permalink: cssefinaltri2/lifecycle\n",
    "---"
   ]
  },
  {
   "cell_type": "markdown",
   "metadata": {},
   "source": [
    "### Source control\n",
    "\n",
    "You can create a comit inside of vscode in the Source control side pannal that looks like a branch. Inside of here you can comit, pull, merge, etc this allows you to save your changes into Github\n",
    "\n",
    "![Image](https://github.com/user-attachments/assets/f01763dc-3df7-47f4-a9d6-27ac0f2afc1a)\n",
    "\n",
    "\n"
   ]
  },
  {
   "cell_type": "markdown",
   "metadata": {},
   "source": [
    "### Forking\n",
    "To create a fork inside of github you need to visit the github page of the repo you want to fork and click the Fork button dropsdown arrow and select new repo. When picking the Fork button you can create pull requests. You can also use the repo as a template if you want to make your repo independent from the mian one\n",
    "\n",
    "\n",
    "![Image](https://github.com/user-attachments/assets/2163c240-048f-4199-8dc4-4d3b834dd7cd)"
   ]
  },
  {
   "cell_type": "markdown",
   "metadata": {},
   "source": [
    "### Branching\n",
    "\n",
    "Inside of your repo you can create branches that allow you to make changes that are not on the main branch. You can use branches to test furtures before moving them onto a main branch. You can also use branches when in a team to have areas for each member to pu there work in\n",
    "\n",
    "![Image](https://github.com/user-attachments/assets/dcdc1363-fd27-43d6-89af-3521927b45ac)"
   ]
  },
  {
   "cell_type": "markdown",
   "metadata": {},
   "source": [
    "### Building\n",
    "\n",
    "After having all of your tools installed and ready to go create a new terminal in VS Code to type in cmds. IF there is no Venv To the left of the directory run source venv/bin/activate inside the terminal.(this should be done inside of the windows terminal before running code .) to build your site use \"make\" to build\n",
    "\n",
    "ERR FIXES:\n",
    "sometimes you may run into errors here is how to fix some of them\n",
    "\n",
    "Run Bundle Install\n",
    "Make sure all tools are installed by looking at there version\n",
    "Check if any files have wrong names like spaces,repeat names, etc\n",
    "re install tools\n",
    "\n",
    "\n",
    "![Image](https://github.com/user-attachments/assets/fec08f10-9f16-48da-b2a7-07ce5ef2f3fe)\n",
    "\n",
    "![Image](https://github.com/user-attachments/assets/ddca5477-451c-4bf6-af74-78f83b0f9539)"
   ]
  },
  {
   "cell_type": "markdown",
   "metadata": {},
   "source": [
    "### Testing\n",
    "\n",
    "After running make you will be given a link, inside of this link will be your repos website were you can test enything you have added. Dont forget to open the console by right clicking -> inspect element\n",
    "\n",
    "![Image](https://github.com/user-attachments/assets/67e1f4ac-5e27-4494-b5b4-83ff46bff466)"
   ]
  },
  {
   "cell_type": "markdown",
   "metadata": {},
   "source": [
    "### pull requests\n",
    "\n",
    "When commiting to git hub with your final changes and ready to add them into the teacher repo you need to create a pull request. Before creating one make sure in the action tab that there are no failed actions and all actions are finsihed loading. To create a pull reuest you must click the contribute buttton found at the top of your repo page. Dont see it? Make sure that you forked the repo and did not make a template. After creating the pull request add a discription of what you added/changed and send the pull request. If the request is rejected go to the pull request and see what the person said whats wrong and fix it asap!\n",
    "\n",
    "\n",
    "![Image](https://github.com/user-attachments/assets/94dac5e3-7add-481e-902b-a90aff06ce04)"
   ]
  },
  {
   "cell_type": "markdown",
   "metadata": {},
   "source": [
    "### merging\n",
    "\n",
    "Merging is how you merge changes from one branch onto another. This is what makes pull requests work. When on the reciveing end of a pull request you will need to check if there are conflicts before merging the pull request. You can do this inside of the pull request as github tells you if some code is conflicting. Before merging you should go through all the added/changed files for errors. If everything looks good just click the merge button\n",
    "\n",
    "( not in context with text above)\n",
    "After sending a pull request dont foget to sync your fork so your fork does not fall behind and cause new conflicts"
   ]
  },
  {
   "cell_type": "markdown",
   "metadata": {},
   "source": [
    "### deployment\n",
    "\n",
    "deployment happens after any changes happen in your github repo. You can see what is happining inside of the Actions tab inside your repo. If the deploy fails it will give you an err msg with syntax. If this happenes go to vs code, make sure you pulled, and run make. If the make fails it will tell you where the err is. If nothing happenes use ChatGPT or any AI to help resolve your issue. After the deployment is successful there will be a link to your repos site that you can run on other computers besides yours!"
   ]
  }
 ],
 "metadata": {
  "kernelspec": {
   "display_name": "venv",
   "language": "python",
   "name": "python3"
  },
  "language_info": {
   "name": "python",
   "version": "3.12.3"
  }
 },
 "nbformat": 4,
 "nbformat_minor": 2
}
