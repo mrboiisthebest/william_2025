{
 "cells": [
  {
   "cell_type": "raw",
   "metadata": {
    "vscode": {
     "languageId": "raw"
    }
   },
   "source": [
    "---\n",
    "toc: true\n",
    "layout: post\n",
    "title: input output\n",
    "description: HTML5 input, validation, Document Object Model (DOM)\n",
    "\n",
    "permalink: cssefinaltri2/inputoutput\n",
    "---"
   ]
  },
  {
   "cell_type": "markdown",
   "metadata": {},
   "source": [
    "### HTML5 input\n",
    "\n",
    "There are many types of HTML inputs that you can do in js. One that can be used for player inputes using html is text boxes You can use the response of the textbox to run code there is an example below"
   ]
  },
  {
   "cell_type": "code",
   "execution_count": 2,
   "metadata": {
    "vscode": {
     "languageId": "html"
    }
   },
   "outputs": [
    {
     "data": {
      "text/html": [
       "<head>\n",
       "    <body>\n",
       "        <input type=\"text\" id=\"input\" name=\"userInput\">\n",
       "        <text id=\"output\"></text>\n",
       "    </body>\n",
       "</head>\n",
       "\n",
       "<script>\n",
       "    const input = document.getElementById('input');\n",
       "    const output = document.getElementById('output');\n",
       "    input.addEventListener('input', function() {\n",
       "        output.innerText = input.value;\n",
       "    });\n",
       "</script>\n"
      ],
      "text/plain": [
       "<IPython.core.display.HTML object>"
      ]
     },
     "metadata": {},
     "output_type": "display_data"
    }
   ],
   "source": [
    "%%HTML\n",
    "<head>\n",
    "    <body>\n",
    "        <input type=\"text\" id=\"input\" name=\"userInput\">\n",
    "        <text id=\"output\"></text>\n",
    "    </body>\n",
    "</head>\n",
    "\n",
    "<script>\n",
    "    const input = document.getElementById('input');\n",
    "    const output = document.getElementById('output');\n",
    "    input.addEventListener('input', function() {\n",
    "        output.innerText = input.value;\n",
    "    });\n",
    "</script>\n"
   ]
  },
  {
   "cell_type": "markdown",
   "metadata": {},
   "source": [
    "### HTML DOM\n",
    "\n",
    "html dom is a way for scripts to apply an output onto the screeen in text,images, and many more.\n",
    "Html dom is mainly made inside of a div"
   ]
  },
  {
   "cell_type": "code",
   "execution_count": 4,
   "metadata": {
    "vscode": {
     "languageId": "html"
    }
   },
   "outputs": [
    {
     "data": {
      "text/html": [
       "\n",
       "<head>\n",
       "    <body>\n",
       "        <div id=\"testOutput\">\n",
       "            <text id=\"outputText\">HELLO</text>\n",
       "        </div>\n",
       "    </body>\n"
      ],
      "text/plain": [
       "<IPython.core.display.HTML object>"
      ]
     },
     "metadata": {},
     "output_type": "display_data"
    }
   ],
   "source": [
    "%%HTML\n",
    "\n",
    "<head>\n",
    "    <body>\n",
    "        <div id=\"testOutput\">\n",
    "            <text id=\"outputText\">HELLO</text>\n",
    "        </div>\n",
    "    </body>"
   ]
  }
 ],
 "metadata": {
  "kernelspec": {
   "display_name": "venv",
   "language": "python",
   "name": "python3"
  },
  "language_info": {
   "codemirror_mode": {
    "name": "ipython",
    "version": 3
   },
   "file_extension": ".py",
   "mimetype": "text/x-python",
   "name": "python",
   "nbconvert_exporter": "python",
   "pygments_lexer": "ipython3",
   "version": "3.12.3"
  }
 },
 "nbformat": 4,
 "nbformat_minor": 2
}
