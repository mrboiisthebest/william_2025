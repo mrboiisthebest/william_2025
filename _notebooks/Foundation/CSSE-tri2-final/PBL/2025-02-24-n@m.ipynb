{
 "cells": [
  {
   "cell_type": "raw",
   "metadata": {
    "vscode": {
     "languageId": "raw"
    }
   },
   "source": [
    "---\n",
    "toc: true\n",
    "layout: post\n",
    "title: Night At the museum\n",
    "description: Night At the museum Review\n",
    "comments: true\n",
    "permalink: cssefinaltri2/nightAtTheMuseum\n",
    "---"
   ]
  },
  {
   "cell_type": "markdown",
   "metadata": {},
   "source": [
    "### Things I found interesting\n",
    "\n",
    "Login screen, profile tracker, Mr Mott approves, api use\n",
    "\n",
    "This one group created a brand new login screen with css to make it look very clean. Another group had a system to get aproved by the teacher and tracks how long people were logged into there sesion for.\n",
    "\n",
    "In Another group They created a way to keep track on what your group memebers are doing and they implemented a timer that was 2m long to stay on track when presenting"
   ]
  },
  {
   "cell_type": "markdown",
   "metadata": {},
   "source": [
    "# Reviews"
   ]
  }
 ],
 "metadata": {
  "language_info": {
   "name": "python"
  }
 },
 "nbformat": 4,
 "nbformat_minor": 2
}
