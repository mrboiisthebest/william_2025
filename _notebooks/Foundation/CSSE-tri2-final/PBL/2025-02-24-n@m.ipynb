{
 "cells": [
  {
   "cell_type": "raw",
   "metadata": {
    "vscode": {
     "languageId": "raw"
    }
   },
   "source": [
    "---\n",
    "toc: true\n",
    "layout: post\n",
    "title: Night At the museum\n",
    "description: Night At the museum Review\n",
    "\n",
    "comments: true\n",
    "permalink: cssefinaltri2/nightAtTheMuseum\n",
    "---"
   ]
  },
  {
   "cell_type": "markdown",
   "metadata": {},
   "source": [
    "Interact with NPCs with \"u\", for quests just walk into them. The far right npc is the quests giver"
   ]
  }
 ],
 "metadata": {
  "language_info": {
   "name": "python"
  }
 },
 "nbformat": 4,
 "nbformat_minor": 2
}
