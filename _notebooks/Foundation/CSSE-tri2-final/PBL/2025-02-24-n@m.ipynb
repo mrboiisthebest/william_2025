{
 "cells": [
  {
   "cell_type": "raw",
   "metadata": {
    "vscode": {
     "languageId": "raw"
    }
   },
   "source": [
    "---\n",
    "toc: true\n",
    "layout: post\n",
    "title: Night At the museum\n",
    "description: Night At the museum Review\n",
    "\n",
    "permalink: cssefinaltri2/controlStructures\n",
    "---"
   ]
  }
 ],
 "metadata": {
  "language_info": {
   "name": "python"
  }
 },
 "nbformat": 4,
 "nbformat_minor": 2
}
