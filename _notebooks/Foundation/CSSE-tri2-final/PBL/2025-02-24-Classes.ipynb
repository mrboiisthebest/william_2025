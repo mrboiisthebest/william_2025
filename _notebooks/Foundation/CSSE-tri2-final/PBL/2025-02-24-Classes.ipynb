{
 "cells": [
  {
   "cell_type": "raw",
   "metadata": {
    "vscode": {
     "languageId": "raw"
    }
   },
   "source": [
    "---\n",
    "toc: true\n",
    "layout: post\n",
    "title: Classes\n",
    "description: methods, instantiating objects, using objects, calling methods, parameters, return values.\n",
    "\n",
    "permalink: cssefinaltri2/classes\n",
    "---"
   ]
  },
  {
   "cell_type": "markdown",
   "metadata": {},
   "source": [
    "### Methods\n",
    "```\n",
    "length() – Returns the length of a string.\n",
    "indexOf() – Returns the index of a specified character in a string.\n",
    "charAt() – Returns the character at a specified index in a string.\n",
    "substring() – Returns a substring of a specified string.\n",
    "toUpperCase() – Converts a string to uppercase.\n",
    "toLowerCase() – Converts a string to lowercase.\n",
    "trim() – Removes leading and trailing whitespace from a string.\n",
    "```\n",
    "\n",
    "Some methods can also be ussed on arrays making them very usefull for creating conditionals like a loop that goes through every value, find a value in an array and much more. In adventure game when creating the quest system the most comon method I used was length and index of. "
   ]
  },
  {
   "cell_type": "code",
   "execution_count": null,
   "metadata": {
    "vscode": {
     "languageId": "javascript"
    }
   },
   "outputs": [
    {
     "data": {
      "application/javascript": "\nlet array = [1, 2, 3, 4, 5];\n\nconsole.log(array.length);\nconsole.log(array.findIndex(3));\n",
      "text/plain": [
       "<IPython.core.display.Javascript object>"
      ]
     },
     "metadata": {},
     "output_type": "display_data"
    }
   ],
   "source": [
    "%%js\n",
    "\n",
    "let array = [17, 22, 35, 41, 58];\n",
    "\n",
    "console.log(array.length);\n",
    "console.log(array[3]);"
   ]
  },
  {
   "cell_type": "markdown",
   "metadata": {},
   "source": [
    "### Instantiating Objects\n",
    "instantiating objects is when you create A json object that can be used very easily in OOP. To instance an object you need to use the class function which is like a JSON Object but it can store data,function, and more and not just data"
   ]
  },
  {
   "cell_type": "code",
   "execution_count": null,
   "metadata": {
    "vscode": {
     "languageId": "javascript"
    }
   },
   "outputs": [
    {
     "data": {
      "application/javascript": "\nclass Car {\n    constructor(make, model, year) {\n        this.make = make;\n        this.model = model;\n        this.year = year;\n    }\n}\n\nlet hotWheel = new Car(\"Cachowww\", \"Lightning McQueen\", 2006);\nconsole.log(hotWheel);\n",
      "text/plain": [
       "<IPython.core.display.Javascript object>"
      ]
     },
     "metadata": {},
     "output_type": "display_data"
    }
   ],
   "source": [
    "%%js\n",
    "\n",
    "class Car {\n",
    "    constructor(make, model, year) {\n",
    "        this.make = make;\n",
    "        this.model = model;\n",
    "        this.year = year;\n",
    "    }\n",
    "\n",
    "    displayInfo() {\n",
    "        return `${this.make} ${this.model} (${this.year})`;\n",
    "    }\n",
    "\n",
    "    age(currentYear) {\n",
    "        return currentYear - this.year;\n",
    "    }\n",
    "}\n",
    "\n",
    "let hotWheel = new Car(\"Cachowww\", \"Lightning McQueen\", 2006);\n",
    "console.log(hotWheel.displayInfo());\n",
    "console.log(`Age of the car: ${hotWheel.age(2023)} years`);"
   ]
  },
  {
   "cell_type": "markdown",
   "metadata": {},
   "source": [
    "### Using Objects\n",
    "\n",
    "To use an object you need to use the \"new\" keyword to create a new instance of the object. This new intance of the object will have its own values and will not share its values with the other objects that is also in the same class. After calling new choose the class you want to use and give the values in the (). remmeber that you cant skip values and have to go in order!"
   ]
  },
  {
   "cell_type": "markdown",
   "metadata": {},
   "source": [
    "### Calling Methods\n",
    "\n",
    "Calling methods are functions that are inside of the object that can return values of the object. thi can be used to find an objects speed,image,size, and anything else you want to display! to call one of these methods you must use the object (which is inside of the variable you made after calling the class) and use the \".\" folowed by the name of the function to call the method"
   ]
  },
  {
   "cell_type": "code",
   "execution_count": null,
   "metadata": {
    "vscode": {
     "languageId": "javascript"
    }
   },
   "outputs": [],
   "source": [
    "%%js\n",
    "\n",
    "class Boat{\n",
    "    constructor(maxSpeed, Size, Color){\n",
    "        this.maxSpeed = maxSpeed;\n",
    "        this.Size = Size;\n",
    "        this.Color = Color;\n",
    "        this.Fuel = 100;\n",
    "\n",
    "    }\n",
    "\n",
    "    drive(){\n",
    "        return `The boat is driving at ${this.maxSpeed} knots`;\n",
    "        this.Fuel -= 10;\n",
    "    }\n",
    "\n",
    "    tankLeft(){\n",
    "        return this.Fuel;\n",
    "    }\n",
    "}\n",
    "\n",
    "\n",
    "let coolBoat = new Boat(100, \"Big\", \"Blue\");\n",
    "console.log(coolBoat.drive());\n",
    "console.log(`Fuel left: ${coolBoat.tankLeft()}`);"
   ]
  },
  {
   "cell_type": "markdown",
   "metadata": {},
   "source": [
    "### Parameters\n",
    "\n",
    "Parameters are values that you give to the object that is used to set values inside of the object. In the example above you provide the parameters for the max Speed, size, and color for the object. You add these parameters inside of the () as seen when creating the var coolBoat"
   ]
  },
  {
   "cell_type": "markdown",
   "metadata": {},
   "source": [
    "### Return Values\n",
    "\n",
    "Return values return values about the object. In the example above I have a return value that returns the amount of fuel left isnide of the tank for the boat. If you wanted to add another return value to practice try to add a return value that calculates the amount of distance you can travel with the current fuel amount"
   ]
  }
 ],
 "metadata": {
  "kernelspec": {
   "display_name": "venv",
   "language": "python",
   "name": "python3"
  },
  "language_info": {
   "codemirror_mode": {
    "name": "ipython",
    "version": 3
   },
   "file_extension": ".py",
   "mimetype": "text/x-python",
   "name": "python",
   "nbconvert_exporter": "python",
   "pygments_lexer": "ipython3",
   "version": "3.12.3"
  }
 },
 "nbformat": 4,
 "nbformat_minor": 2
}
