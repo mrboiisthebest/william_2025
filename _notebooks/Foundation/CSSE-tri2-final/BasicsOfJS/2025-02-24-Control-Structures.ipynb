{
 "cells": [
  {
   "cell_type": "raw",
   "metadata": {
    "vscode": {
     "languageId": "raw"
    }
   },
   "source": [
    "---\n",
    "toc: true\n",
    "layout: post\n",
    "title: Control Structures\n",
    "description: Iteration, conditions, nested conditions\n",
    "\n",
    "permalink: cssefinaltri2/controlStructures\n",
    "---"
   ]
  },
  {
   "cell_type": "markdown",
   "metadata": {},
   "source": [
    "### The If Loop\n",
    "\n",
    "the if loop is the best loop withought it you would be much harder to copare values, run things when conditions are met, and much more.\n",
    "\n",
    "Below is an example of an If loop"
   ]
  },
  {
   "cell_type": "code",
   "execution_count": null,
   "metadata": {
    "vscode": {
     "languageId": "javascript"
    }
   },
   "outputs": [],
   "source": [
    "let Count = 1\n",
    "\n",
    "if (Count === 1) {\n",
    "    Count++\n",
    "}"
   ]
  },
  {
   "cell_type": "markdown",
   "metadata": {},
   "source": [
    "If loops require a condtion that is checked to allow the loop to run the code inside of it\n",
    "\n",
    "In this example I madea  count variable that is set to the value of 1\n",
    "When putting your condition inside the if loop which in this case it checks if the var Count is the value of 1, it will run the code inside which inceases the Count var by 1"
   ]
  },
  {
   "cell_type": "markdown",
   "metadata": {},
   "source": [
    "### Conditions\n",
    "```\n",
    "== — Equal to (checks for value equality, type conversion may occur)\n",
    "=== — Strictly equal to (checks for both value and type equality)\n",
    "!= — Not equal to (checks if values are not equal, with type conversion)\n",
    "!== — Strictly not equal to (checks if values or types are not equal)\n",
    "> — Greater than\n",
    "< — Less than\n",
    ">= — Greater than or equal to\n",
    "&& — Logical AND (returns true if both conditions are true)\n",
    "|| — Logical OR (returns true if at least one condition is true)\n",
    "! — Logical NOT (negates a condition, returns true if the condition is false)\n",
    "```\n",
    "Above examples from AI\n",
    "\n",
    "Using the above conditinals you can make your if loop do whatever you want it to do!"
   ]
  },
  {
   "cell_type": "markdown",
   "metadata": {},
   "source": [
    "### Nested Conditions\n",
    "\n",
    "nested conditions are very helpful but if they are too many nested conditions then debugging will be much harder"
   ]
  },
  {
   "cell_type": "code",
   "execution_count": null,
   "metadata": {
    "vscode": {
     "languageId": "javascript"
    }
   },
   "outputs": [],
   "source": [
    "let Value = true\n",
    "\n",
    "if (Value) {\n",
    "    if (Count === 2) {\n",
    "        Count++\n",
    "    }\n",
    "}"
   ]
  },
  {
   "cell_type": "markdown",
   "metadata": {},
   "source": [
    "In the above code is an example of a nested condition. A nested condition is when a condition is ran if another condition is met. A nested condition can be as long as you want but is not recommended to make your nested condition very long"
   ]
  },
  {
   "cell_type": "code",
   "execution_count": null,
   "metadata": {
    "vscode": {
     "languageId": "javascript"
    }
   },
   "outputs": [],
   "source": [
    "//this is how not to do neted conditionals\n",
    "let ExampleValue = true\n",
    "let ExampleValue2 = true\n",
    "let ExampleValue3 = true\n",
    "let ExampleValue4 = true\n",
    "let ExampleValue5 = true\n",
    "\n",
    "\n",
    "\n",
    "if (ExampleValue) {\n",
    "    if (ExampleValue2) {\n",
    "        if (ExampleValue3) {\n",
    "            if (ExampleValue4) {\n",
    "                if (ExampleValue5) {\n",
    "                    console.log(\"HI!\")\n",
    "                }\n",
    "            }\n",
    "        }\n",
    "    }\n",
    "}"
   ]
  },
  {
   "cell_type": "markdown",
   "metadata": {},
   "source": [
    "insted of nesting over and over try to add a if loop at the top of the current if loop to check if a value is met and if it is not the loop will return. This makes it much more easy to see were the err happened when debugging and make the code look more clean"
   ]
  },
  {
   "cell_type": "code",
   "execution_count": null,
   "metadata": {
    "vscode": {
     "languageId": "javascript"
    }
   },
   "outputs": [],
   "source": [
    "let IsRunning = true\n",
    "let CanJump = false\n",
    "\n",
    "\n",
    "function jumpCheck(){\n",
    "    if(IsRunning){ return;} // if the player is running the function will be exited\n",
    "    CanJump = true\n",
    "}\n",
    "\n"
   ]
  }
 ],
 "metadata": {
  "language_info": {
   "name": "python"
  }
 },
 "nbformat": 4,
 "nbformat_minor": 2
}
