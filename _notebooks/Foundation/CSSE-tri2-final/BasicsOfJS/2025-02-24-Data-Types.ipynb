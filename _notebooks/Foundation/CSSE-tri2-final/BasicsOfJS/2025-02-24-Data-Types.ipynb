{
 "cells": [
  {
   "cell_type": "raw",
   "metadata": {
    "vscode": {
     "languageId": "raw"
    }
   },
   "source": [
    "---\n",
    "toc: true\n",
    "layout: post\n",
    "title: Data Types\n",
    "description: Data types for js\n",
    "\n",
    "permalink: cssefinaltri2/datatypes\n",
    "---"
   ]
  }
 ],
 "metadata": {
  "language_info": {
   "name": "python"
  }
 },
 "nbformat": 4,
 "nbformat_minor": 2
}
