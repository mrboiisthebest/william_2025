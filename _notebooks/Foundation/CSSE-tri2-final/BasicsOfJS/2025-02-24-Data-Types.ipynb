{
 "cells": [
  {
   "cell_type": "raw",
   "metadata": {
    "vscode": {
     "languageId": "raw"
    }
   },
   "source": [
    "---\n",
    "toc: true\n",
    "layout: post\n",
    "title: Data Types\n",
    "description: Numbers, strings, booleans, arrays, JSON objects\n",
    "\n",
    "permalink: cssefinaltri2/datatypes\n",
    "---"
   ]
  },
  {
   "cell_type": "markdown",
   "metadata": {},
   "source": [
    "### Numbers\n",
    "\n",
    "The number data type hold a number value for example 1,2,3,3.5,etc.\n",
    "A number value is used to keep track of numarical values, so when using numbers use a number value"
   ]
  },
  {
   "cell_type": "code",
   "execution_count": null,
   "metadata": {
    "vscode": {
     "languageId": "javascript"
    }
   },
   "outputs": [],
   "source": [
    "let StoredNumber = 0\n",
    "\n",
    "console.log(StoredNumber)"
   ]
  },
  {
   "cell_type": "markdown",
   "metadata": {},
   "source": [
    "### Strings\n",
    "\n",
    "String are used as text. When making a string value everything inside of the \" \" will become a string value. When putting numbers inside of the string they will not act like number values and instead will become a string value that says in text what the number is"
   ]
  },
  {
   "cell_type": "code",
   "execution_count": null,
   "metadata": {
    "vscode": {
     "languageId": "javascript"
    }
   },
   "outputs": [],
   "source": [
    "let TestString = \"Hello World\"\n",
    "\n",
    "console.log(TestString) // will print \"Hello World\" to the console"
   ]
  },
  {
   "cell_type": "markdown",
   "metadata": {},
   "source": [
    "### Bools\n",
    "Bool values are used to store True or False values they are mainly used in conditions to check if something can happen or not. To make a bool vaue just write True or False after the var equal sign"
   ]
  },
  {
   "cell_type": "code",
   "execution_count": null,
   "metadata": {
    "vscode": {
     "languageId": "javascript"
    }
   },
   "outputs": [],
   "source": [
    "let TestBool = true\n",
    "\n",
    "console.log(TestBool) // will print \"true\" to the console"
   ]
  },
  {
   "cell_type": "markdown",
   "metadata": {},
   "source": [
    "### JSON OBJECTS\n",
    "JSON Objects are mainly used in OOP as they can store multiple values like how an Array can store multiple values. To call a JSON Object you must put your values in {}"
   ]
  },
  {
   "cell_type": "code",
   "execution_count": null,
   "metadata": {
    "vscode": {
     "languageId": "javascript"
    }
   },
   "outputs": [],
   "source": [
    "let Person = {\n",
    "    Name: \"Bob\",\n",
    "    Age: 25,\n",
    "    Gender: \"Walmart Bag\"\n",
    "}\n",
    "\n",
    "console.log(Person) // will print the object to the console"
   ]
  }
 ],
 "metadata": {
  "language_info": {
   "name": "python"
  }
 },
 "nbformat": 4,
 "nbformat_minor": 2
}
