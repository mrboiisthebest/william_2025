{
 "cells": [
  {
   "cell_type": "raw",
   "metadata": {
    "vscode": {
     "languageId": "raw"
    }
   },
   "source": [
    "---\n",
    "toc: true\n",
    "layout: post\n",
    "title: Operators\n",
    "description: String operations, mathematical operations, boolean expressions\n",
    "\n",
    "permalink: cssefinaltri2/operators\n",
    "---"
   ]
  },
  {
   "cell_type": "markdown",
   "metadata": {},
   "source": [
    "### String operations\n",
    "\n",
    "To concatenate strings you can use \"TEXT\", \"TEXT\" or \"TEXT\" + \"TEXT\"\n",
    "\n",
    "To add variables into the sting you must use ${} inside of ``"
   ]
  },
  {
   "cell_type": "code",
   "execution_count": null,
   "metadata": {
    "vscode": {
     "languageId": "javascript"
    }
   },
   "outputs": [],
   "source": [
    "let message = \"Hello World!\";\n",
    "let variable = 10;\n",
    "console.log(message, \"This is a message from JavaScript\");\n",
    "console.log(`I have ${variable} apples`);"
   ]
  },
  {
   "cell_type": "markdown",
   "metadata": {},
   "source": [
    "### Math Operators\n",
    "\n",
    "```\n",
    "+ Add\n",
    "- Subtract\n",
    "* Multiply\n",
    "/ Divide\n",
    "\n",
    "```\n",
    "\n",
    "these are the 4 basic math operaters as there are many more like floor(), sin(), Math.Random(), and many more\n",
    "Math operaters are mainly used when using 2 Number values and applying the operator to them"
   ]
  },
  {
   "cell_type": "code",
   "execution_count": null,
   "metadata": {
    "vscode": {
     "languageId": "javascript"
    }
   },
   "outputs": [],
   "source": [
    "let num1 = 10\n",
    "let num2 = 20\n",
    "\n",
    "console.log(num1 + num2)\n",
    "console.log(num1 - num2)\n",
    "console.log(num1 * num2)\n",
    "console.log(num1 / num2)"
   ]
  },
  {
   "cell_type": "markdown",
   "metadata": {},
   "source": [
    "### Bool Expressions\n",
    "```\n",
    "false: The boolean value false is considered falsy.\n",
    "0: The number 0 (zero) is falsy in JavaScript.\n",
    "NaN: The special \"Not-a-Number\" value is falsy.\n",
    "null: The absence of any object or value is falsy.\n",
    "undefined: A variable that has not been assigned a value is falsy.\n",
    "```\n",
    "\n",
    "Above examples from AI\n",
    "\n",
    "these are the main ways of showing how a variable is empty which is usefull to disallow some conditions to run or prevent errs\n",
    "\n"
   ]
  },
  {
   "cell_type": "code",
   "execution_count": null,
   "metadata": {
    "vscode": {
     "languageId": "javascript"
    }
   },
   "outputs": [],
   "source": [
    "let NextValue = null // this shows that there is no value but one can be added later\n",
    "let AnotherValue = undefined // this shows that there is no value and one can be added later\n",
    "let ThirdValue = 10 // this shows that there is a value"
   ]
  }
 ],
 "metadata": {
  "language_info": {
   "name": "python"
  }
 },
 "nbformat": 4,
 "nbformat_minor": 2
}
