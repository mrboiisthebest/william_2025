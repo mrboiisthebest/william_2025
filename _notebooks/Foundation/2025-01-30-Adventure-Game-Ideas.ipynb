{
 "cells": [
  {
   "cell_type": "raw",
   "metadata": {
    "vscode": {
     "languageId": "raw"
    }
   },
   "source": [
    "---\n",
    "toc: true\n",
    "layout: post\n",
    "title: Adventure Game Ideas\n",
    "description: Ideas and changes for the Adventure Game\n",
    "permalink: adventuregame/ideas\n",
    "---"
   ]
  },
  {
   "cell_type": "markdown",
   "metadata": {
    "vscode": {
     "languageId": "raw"
    }
   },
   "source": [
    "### Changes/Fixes"
   ]
  },
  {
   "cell_type": "markdown",
   "metadata": {},
   "source": [
    "Change the movement from acceleration to set speed"
   ]
  },
  {
   "cell_type": "markdown",
   "metadata": {},
   "source": [
    "# Ideas\n",
    "\n",
    "New Lvl Theme\n",
    "\n",
    "An idea I have for the game is to add a Lava level that looks like the inside of a volcano with there being a Rock,Wizard, Sacerficed man as the npc you can talk to.\n",
    "\n",
    "Quest\n",
    "\n",
    "In this new level I want to add 3 quest\n",
    "\n",
    "find all the coins\n",
    "coins will be scattered around the map\n",
    "\n",
    "Save the man\n",
    "You will need to find a glass of water in a previous level and feed it to him\n",
    "\n",
    "Talk to all the NPCs\n",
    "\n",
    "Just talk to every npx once\n",
    "\n",
    "\n",
    "How I will make the quest System\n",
    "\n",
    "At first the quest system will be made in the terminal as making the UI for this should be created last.\n",
    "To create this quest system I will need to Make a quest sytem that has an array which will store quest objects. \n",
    "A quest object will include\n",
    "\n",
    "Name: String        Will be the name displayed on the quest UI\n",
    "Compleated: Bool    Keeps track if the quest is finsihed\n",
    "Count: Number       Keeps tracks on how ar you are on te quest. For example the amount of an item you must collect\n",
    "ID: String          Stores the ID of the quest so it can be found by code\n",
    "\n",
    "\n"
   ]
  },
  {
   "cell_type": "markdown",
   "metadata": {},
   "source": [
    "For current updates visit this issue on git hub [LINK](https://github.com/mrboiisthebest/william_2025/issues/16)"
   ]
  },
  {
   "cell_type": "markdown",
   "metadata": {},
   "source": [
    "![flowChart]({{ site.baseurl }}/images/notebooks/foundation/questFlowChart.png)"
   ]
  }
 ],
 "metadata": {
  "language_info": {
   "name": "python"
  }
 },
 "nbformat": 4,
 "nbformat_minor": 2
}
