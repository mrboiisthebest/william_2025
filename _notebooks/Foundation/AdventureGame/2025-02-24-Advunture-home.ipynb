{
 "cells": [
  {
   "cell_type": "raw",
   "metadata": {
    "vscode": {
     "languageId": "raw"
    }
   },
   "source": [
    "---\n",
    "toc: true\n",
    "layout: post\n",
    "title: Adventure Game Home\n",
    "description: hub for the adventure game\n",
    "menu: nav/quests.html\n",
    "permalink: adventuregame/home\n",
    "---"
   ]
  },
  {
   "cell_type": "markdown",
   "metadata": {},
   "source": [
    "Basics of JavaScript\n",
    "-Student Lessons blog(s) on Control Structures: Iteration, conditions, nested conditions\n",
    "-Student Lesson blog(s) on Data Types: Numbers, strings, booleans, arrays, JSON objects\n",
    "-Student Lesson blog(s) on Operators: String operations, mathematical operations, boolean expressions\n",
    "\n",
    "PBL Understandings\n",
    "-PBL blog(s) on Input/Output: HTML5 input, validation, Document Object Model (DOM)\n",
    "-PBL blog(s) on Classes: Drawio Diagram on classes.  Discuss  from PBL code: methods, instantiating objects, using objects, calling methods, parameters, return values.\n",
    "-PBL blog(s) on Software Development Lifecycle: Source control, forking, branching, building, testing and verification, pull requests, merging, deployment\n",
    "-Retrospective Engineering blog(s) on Performing Demos, receiving feedback Live reviews, N@tM reflection, and making retrospective issue(s).  On this item, you should have some ideas of what you would change next on your game if you had more time."
   ]
  }
 ],
 "metadata": {
  "language_info": {
   "name": "python"
  }
 },
 "nbformat": 4,
 "nbformat_minor": 2
}
