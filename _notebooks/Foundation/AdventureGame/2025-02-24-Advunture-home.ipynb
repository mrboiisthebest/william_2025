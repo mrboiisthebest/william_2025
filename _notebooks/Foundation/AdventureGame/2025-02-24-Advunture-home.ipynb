{
 "cells": [
  {
   "cell_type": "raw",
   "metadata": {
    "vscode": {
     "languageId": "raw"
    }
   },
   "source": [
    "---\n",
    "toc: true\n",
    "layout: post\n",
    "title: Adventure Game Home\n",
    "description: hub for the adventure game\n",
    "menu: nav/quests.html\n",
    "permalink: adventuregame/home\n",
    "---"
   ]
  }
 ],
 "metadata": {
  "language_info": {
   "name": "python"
  }
 },
 "nbformat": 4,
 "nbformat_minor": 2
}
