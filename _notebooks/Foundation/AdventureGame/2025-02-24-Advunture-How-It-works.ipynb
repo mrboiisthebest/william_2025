{
 "cells": [
  {
   "cell_type": "raw",
   "metadata": {
    "vscode": {
     "languageId": "raw"
    }
   },
   "source": [
    "---\n",
    "toc: true\n",
    "layout: post\n",
    "title: Adventure Game How It Works\n",
    "description: Explains how the quests system works\n",
    "menu: nav/quests.html\n",
    "permalink: adventuregame/howitworks\n",
    "---"
   ]
  },
  {
   "cell_type": "markdown",
   "metadata": {},
   "source": [
    "![Image](https://github.com/user-attachments/assets/a626a744-7d82-467e-a8f8-6c443de8555a)\n",
    "\n",
    "\n",
    "\n",
    "When interacting with the npc there will be a check to make sure that you can get a quest. If the player can get a quest a random quest will be selected from a list of un completed quests on the current level list. \n",
    "\n",
    "![Image](https://github.com/user-attachments/assets/1310c8b1-6b0a-4ebe-9dda-2dee20de156a)\n",
    "\n",
    "\n",
    "After the request is sent to assign a quest the quests Active value will be set to true. Inside of QuestsSystem.js there is a loop that loops through ALL ACTIVE quests when an interaction occurs. If a quest is found it will send the collided objects ID which will then be checked by the quest to see if its a value inside of the quest.\n",
    "\n",
    "![Image](https://github.com/user-attachments/assets/7ac60af8-9162-4cec-800c-e3dceb9520d7)\n",
    "\n",
    "Inside of the UpdateQuest() function inside of the quest it will find what type of quest it is and run the corosponding checks and log the output. If the quests values have all been met the quest will be deactivated and unlocks the quest npc to allow another quest to be accepted.\n",
    "\n",
    "![Image](https://github.com/user-attachments/assets/82b29833-ef10-41fd-88c8-f9367b35509a)\n",
    "\n",
    "The quest npc sends a request to create the corosponding scavenger object\n",
    "\n",
    "![Image](https://github.com/user-attachments/assets/c6d1cd81-dfa0-4456-b807-543a3ca7155d)\n",
    "\n",
    "Inside of ScavengerObject.js there is a swich case statement to find the scavenger objects data. This data includes the size, image, and pos of the object. Because the object is being created it will imeaditly show up on the level allowing for the player to collect the object.\n",
    "\n",
    "![Image](https://github.com/user-attachments/assets/b99b30d9-a93b-4a85-a28f-fee02b3f8bcd)"
   ]
  }
 ],
 "metadata": {
  "language_info": {
   "name": "python"
  }
 },
 "nbformat": 4,
 "nbformat_minor": 2
}
