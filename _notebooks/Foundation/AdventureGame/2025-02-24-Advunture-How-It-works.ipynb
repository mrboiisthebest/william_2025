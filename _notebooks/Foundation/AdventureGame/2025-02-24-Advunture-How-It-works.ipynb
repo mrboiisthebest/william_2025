{
 "cells": [
  {
   "cell_type": "raw",
   "metadata": {
    "vscode": {
     "languageId": "raw"
    }
   },
   "source": [
    "---\n",
    "toc: true\n",
    "layout: post\n",
    "title: Adventure Game How It Works\n",
    "description: Explains how the quests system works\n",
    "menu: nav/quests.html\n",
    "permalink: adventuregame/howitworks\n",
    "---"
   ]
  }
 ],
 "metadata": {
  "language_info": {
   "name": "python"
  }
 },
 "nbformat": 4,
 "nbformat_minor": 2
}
