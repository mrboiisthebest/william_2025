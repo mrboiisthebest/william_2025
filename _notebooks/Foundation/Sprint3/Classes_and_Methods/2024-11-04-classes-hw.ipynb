{
 "cells": [
  {
   "cell_type": "code",
   "execution_count": null,
   "metadata": {},
   "outputs": [],
   "source": [
    "---\n",
    "comments: true\n",
    "layout: post\n",
    "title: JavaScript Classes & Methods Homework\n",
    "description: The JavaScript Classes & Methods Homework assignment for the JavaScript Fundamentals course.\n",
    "author: Lucas Masterson\n",
    "permalink: /csse/javascript/fundamentals/classes/hw/\n",
    "categories: [JavaScript Fundamentals]\n",
    "---"
   ]
  },
  {
   "cell_type": "markdown",
   "metadata": {},
   "source": [
    "# Classes & Methods Homework\n",
    "****"
   ]
  },
  {
   "cell_type": "markdown",
   "metadata": {},
   "source": [
    "## Homework!\n",
    "\n",
    "As you read through this, notice the new content introduced. We encourage you to do your own research (this can be Google, ChatGPT, documentation, etc.). Here, we introduce the `_` property (memory safety), `extends` keyword, and `super()` method.\n",
    "\n",
    "To complete the homework, implement the `TODO:` comments. The example usage should guide you and work if all implementation is done correctly. Have fun! \n",
    "\n",
    "*If anything simply cannot go wrong, it will anyway.*"
   ]
  },
  {
   "cell_type": "code",
   "execution_count": 25,
   "metadata": {
    "vscode": {
     "languageId": "javascript"
    }
   },
   "outputs": [
    {
     "data": {
      "application/javascript": "\nclass Vehicle {\n    // Constructor\n    constructor(model, capacity, range, terrain) {\n        this._model = model; //modle of vehicle\n        this._capacity = capacity; //number of people\n        this._range = range; // rang on one tank of fuel\n        this._terrain = terrain // air,ground,water\n    }\n    //gets Vehicle modle\n    getModel() {\n        return this._model;\n    }\n    //change Vehicle modle\n    setModel(newModel) {\n        this._model = newModel;\n    }\n    // get Vehicle fuel \n    getCapacity() {\n        return this._capacity;\n    }\n    // change Vehicle fuel\n    setCapacity(newCapacity) {\n        this._capacity = newCapacity;\n    }\n    // get Vehicle range on a full tank\n    getRange() {\n        return this._range\n    }\n    //change range\n    setRange(newRange) {\n        this._range = newRange\n    }\n    //gets terrain\n    getTerrain(){\n        return this._terrain\n    }\n    //return details\n    displayDetails() {\n        return this\n    }\n    //compares ranges\n    static compareRange(aircraft1, aircraft2) {\n        return aircraft1.range - aircraft2.range;\n    }\n}\n\nclass FighterJet extends Vehicle {\n    constructor(model, capacity, range, speed, terrain) {\n        super(model, capacity, range, \"air\"); \n        this._speed = speed;\n    }\n\n    getSpeed(){\n        return this._speed\n    }\n\n    setSpeed(newSpeed){\n        this._speed = newSpeed\n    }\n\n    displayDetails(){\n        return this\n    }\n}\n\nclass Boat extends Vehicle{\n\n    constructor(model, capacity, range, speed, terrain){\n        super(model, capacity, range, \"water\"); \n        this._speed = speed;\n    }\n\n}\nclass Car extends Vehicle{\n\n    constructor(model, capacity, range, speed, terrain){\n        super(model, capacity, range, \"land\"); \n        this._speed = speed;\n    }\n\n}\n\n// Jets\nlet f16 = new FighterJet('F-16', 1, 4220, 2400);\nlet f22 = new FighterJet('F-22', 1, 2960, 2410);\n\nconsole.log(f16.displayDetails());\nconsole.log(f22.displayDetails());\n\n//Boats\nlet MultiBoat = new Boat(\"Multi-Hull Power Boat\", 8, 500, 60)\nlet SigmaBoat = new Boat(\"Sigma 21\", 21, 50000, 6000)\nconsole.log(MultiBoat.displayDetails())\nconsole.log(SigmaBoat.displayDetails())\n\n//Cars\nlet ford_F_150 = new Car(\"Ford f-150\", 6, 1000, 140)\nlet lightning = new Car(\"Lightning McQueen\", 1, 1000, 300)\n\nconsole.log(ford_F_150.displayDetails())\nconsole.log(lightning.displayDetails())\n",
      "text/plain": [
       "<IPython.core.display.Javascript object>"
      ]
     },
     "metadata": {},
     "output_type": "display_data"
    }
   ],
   "source": [
    "%%js\n",
    "\n",
    "class Vehicle {\n",
    "    // Constructor\n",
    "    constructor(model, capacity, range, terrain) {\n",
    "        this._model = model; //modle of vehicle\n",
    "        this._capacity = capacity; //number of people\n",
    "        this._range = range; // rang on one tank of fuel\n",
    "        this._terrain = terrain // air,ground,water\n",
    "    }\n",
    "    //gets Vehicle modle\n",
    "    getModel() {\n",
    "        return this._model;\n",
    "    }\n",
    "    //change Vehicle modle\n",
    "    setModel(newModel) {\n",
    "        this._model = newModel;\n",
    "    }\n",
    "    // get Vehicle fuel \n",
    "    getCapacity() {\n",
    "        return this._capacity;\n",
    "    }\n",
    "    // change Vehicle fuel\n",
    "    setCapacity(newCapacity) {\n",
    "        this._capacity = newCapacity;\n",
    "    }\n",
    "    // get Vehicle range on a full tank\n",
    "    getRange() {\n",
    "        return this._range\n",
    "    }\n",
    "    //change range\n",
    "    setRange(newRange) {\n",
    "        this._range = newRange\n",
    "    }\n",
    "    //gets terrain\n",
    "    getTerrain(){\n",
    "        return this._terrain\n",
    "    }\n",
    "    //return details\n",
    "    displayDetails() {\n",
    "        return this\n",
    "    }\n",
    "    //compares ranges\n",
    "    static compareRange(aircraft1, aircraft2) {\n",
    "        return aircraft1.range - aircraft2.range;\n",
    "    }\n",
    "}\n",
    "\n",
    "class FighterJet extends Vehicle {\n",
    "    constructor(model, capacity, range, speed, terrain) {\n",
    "        super(model, capacity, range, \"air\"); \n",
    "        this._speed = speed;\n",
    "    }\n",
    "\n",
    "    getSpeed(){\n",
    "        return this._speed\n",
    "    }\n",
    "\n",
    "    setSpeed(newSpeed){\n",
    "        this._speed = newSpeed\n",
    "    }\n",
    "\n",
    "    displayDetails(){\n",
    "        return this\n",
    "    }\n",
    "}\n",
    "\n",
    "class Boat extends Vehicle{\n",
    "\n",
    "    constructor(model, capacity, range, speed, terrain){\n",
    "        super(model, capacity, range, \"water\"); \n",
    "        this._speed = speed;\n",
    "    }\n",
    "\n",
    "}\n",
    "class Car extends Vehicle{\n",
    "\n",
    "    constructor(model, capacity, range, speed, terrain){\n",
    "        super(model, capacity, range, \"land\"); \n",
    "        this._speed = speed;\n",
    "    }\n",
    "\n",
    "}\n",
    "\n",
    "// Jets\n",
    "let f16 = new FighterJet('F-16', 1, 4220, 2400);\n",
    "let f22 = new FighterJet('F-22', 1, 2960, 2410);\n",
    "\n",
    "console.log(f16.displayDetails());\n",
    "console.log(f22.displayDetails());\n",
    "\n",
    "//Boats\n",
    "let MultiBoat = new Boat(\"Multi-Hull Power Boat\", 8, 500, 60)\n",
    "let SigmaBoat = new Boat(\"Sigma 21\", 21, 50000, 6000)\n",
    "console.log(MultiBoat.displayDetails())\n",
    "console.log(SigmaBoat.displayDetails())\n",
    "\n",
    "//Cars\n",
    "let ford_F_150 = new Car(\"Ford f-150\", 6, 1000, 140)\n",
    "let lightning = new Car(\"Lightning McQueen\", 1, 1000, 300)\n",
    "\n",
    "console.log(ford_F_150.displayDetails())\n",
    "console.log(lightning.displayDetails())\n"
   ]
  },
  {
   "cell_type": "markdown",
   "metadata": {},
   "source": [
    "****\n",
    "\n",
    "*If you perceive that there are four possible ways in which a procedure can go wrong, and circumvent these, then a fifth way, unprepared for, will promptly develop.*\n",
    "\n",
    "*You have no purpose because you fear to seek one. That fear is your failure. Your fear brings you pain. We know pain. Our purpose is its end.*"
   ]
  }
 ],
 "metadata": {
  "kernelspec": {
   "display_name": "venv",
   "language": "python",
   "name": "python3"
  },
  "language_info": {
   "codemirror_mode": {
    "name": "ipython",
    "version": 3
   },
   "file_extension": ".py",
   "mimetype": "text/x-python",
   "name": "python",
   "nbconvert_exporter": "python",
   "pygments_lexer": "ipython3",
   "version": "3.10.12"
  }
 },
 "nbformat": 4,
 "nbformat_minor": 2
}
