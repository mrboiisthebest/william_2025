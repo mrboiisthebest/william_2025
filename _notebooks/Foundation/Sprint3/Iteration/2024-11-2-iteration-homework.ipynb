{
 "cells": [
  {
   "cell_type": "code",
   "execution_count": null,
   "metadata": {},
   "outputs": [],
   "source": [
    "---\n",
    "comments: True\n",
    "layout: post\n",
    "title: Iteration Homework\n",
    "description: An intro to data abstraction\n",
    "permalink: /csse/javascript/fundamentals/iteration/hw\n",
    "categories: [CSSE JavaScript Fundamentals]\n",
    "author: Kian Zhu, Michael Xu and Srinaga Pillutla\n",
    "---"
   ]
  },
  {
   "cell_type": "markdown",
   "metadata": {},
   "source": [
    "## Homework Assignment: for Loop Challenge\n",
    "Task: Create a program that does the following:\n",
    "\n",
    "Initialize an array with the names of five of your favorite movies.\n",
    "Use a for loop to iterate through the array and print each movie name to the console.\n",
    "After printing all movie names, print a message indicating how many movies you listed."
   ]
  },
  {
   "cell_type": "code",
   "execution_count": 4,
   "metadata": {
    "vscode": {
     "languageId": "javascript"
    }
   },
   "outputs": [
    {
     "data": {
      "application/javascript": "\nlet movies = [\"Spiderman\",\"Jumanji\",\"Deadpool\",\"Avengers\",\"Spongebob\"]\n\nfor(let i = 0; i <= movies.length -1;i++){\n    console.log(movies[i])\n}\nconsole.log(\"Total Movies: \", movies.length)\n",
      "text/plain": [
       "<IPython.core.display.Javascript object>"
      ]
     },
     "metadata": {},
     "output_type": "display_data"
    }
   ],
   "source": [
    "%%js\n",
    "\n",
    "let movies = [\"Spiderman\",\"Jumanji\",\"Deadpool\",\"Avengers\",\"Spongebob\"]\n",
    "\n",
    "for(let i = 0; i <= movies.length -1;i++){\n",
    "    console.log(movies[i])\n",
    "}\n",
    "console.log(\"Total Movies: \", movies.length)"
   ]
  },
  {
   "cell_type": "markdown",
   "metadata": {},
   "source": [
    "# **Homework**\n",
    "\n",
    "Create a **3 by 3, 2D list** that represents a **tictactoe board**.\n",
    "Use **\"X\"** for X, **\"O\"** for O, and **None** for empty tiles.\n",
    "\n",
    "Ex. board = [[\"X\",\"None\",\"O\"],  \n",
    "&emsp;&emsp;&emsp;&emsp;&emsp;&emsp;&ensp;[\"X\",\"O\",\"None\"],  \n",
    "&emsp;&emsp;&emsp;&emsp;&emsp;&emsp;&ensp;[\"O\",\"None\",\"X\"]]\n",
    "\n",
    "Iterate over the board and **identify whether it is player X's or player O's turn.**\n",
    "\n",
    "**Hint**: count the number of moves(non-None). (X goes first)\n",
    "\n",
    "**Optional**: use console.error() to report an error if the board is illegal (ex. 7 \"X\"s and 2 \"O\"s)"
   ]
  },
  {
   "cell_type": "code",
   "execution_count": null,
   "metadata": {
    "vscode": {
     "languageId": "javascript"
    }
   },
   "outputs": [
    {
     "data": {
      "application/javascript": "\nlet board =[//must be capital\n[\"X\",\"\",\"O\"],\n[\"X\",\"O\",\"\"],\n[\"O\",\"\",\"X\"]\n]\n\nlet totalMoves = 9\nlet turn = null // flase is X true is O\nlet totalNumberX = 0\nlet totalNumberO = 0\n\nfor(let rowArray of board){\n    for(let i = 0; i < rowArray.length; i++){\n        let mark = rowArray[i]\n        if (mark === \"X\"){\n            totalNumberX++\n            console.log(\"Is X\")\n        }else if(mark === \"O\"){\n            totalNumberO++\n            console.log(\"Is O\")\n        }else if(mark === \"\"){\n            console.log(\"Is empty\")\n        }\n    }\n}\n// X will go first so in a tie its X`s turn\nconsole.log(totalNumberO)\nconsole.log(totalNumberX)\n\nfunction determainTurn(){\n    console.log(\"RUNNING\")\n    if(totalNumberO > totalNumberX || totalNumberO == totalNumberX ){\n        console.log(\"Its X`s turn\")\n    } else{\n        if (totalNumberO < totalNumberX){\n            console.log(\"Its O`s Turn\")\n        }\n    }\n}\ndetermainTurn()\n",
      "text/plain": [
       "<IPython.core.display.Javascript object>"
      ]
     },
     "metadata": {},
     "output_type": "display_data"
    }
   ],
   "source": [
    "%%js\n",
    "\n",
    "let board =[//must be capital\n",
    "[\"X\",\"\",\"O\"],\n",
    "[\"X\",\"O\",\"\"],\n",
    "[\"O\",\"\",\"X\"]\n",
    "]\n",
    "\n",
    "let totalMoves = 9\n",
    "let turn = null // flase is X true is O\n",
    "let totalNumberX = 0\n",
    "let totalNumberO = 0\n",
    "\n",
    "for(let rowArray of board){\n",
    "    for(let i = 0; i < rowArray.length; i++){\n",
    "        let mark = rowArray[i]\n",
    "        if (mark === \"X\"){\n",
    "            totalNumberX++\n",
    "            console.log(\"Is X\")\n",
    "        }else if(mark === \"O\"){\n",
    "            totalNumberO++\n",
    "            console.log(\"Is O\")\n",
    "        }else if(mark === \"\"){\n",
    "            console.log(\"Is empty\")\n",
    "        }\n",
    "    }\n",
    "}\n",
    "// X will go first so in a tie its X`s turn\n",
    "console.log(totalNumberO)\n",
    "console.log(totalNumberX)\n",
    "\n",
    "function determainTurn(){\n",
    "    if(totalNumberO > totalNumberX || totalNumberO == totalNumberX ){\n",
    "        console.log(\"Its X`s turn\")\n",
    "    } else{\n",
    "        if (totalNumberO < totalNumberX){\n",
    "            console.log(\"Its O`s Turn\")\n",
    "        }\n",
    "    }\n",
    "}\n",
    "determainTurn()"
   ]
  },
  {
   "cell_type": "markdown",
   "metadata": {},
   "source": [
    "## H.W application of While Loops. \n",
    "\n",
    "Create the Outer Loop:\n",
    "\n",
    "Use a while loop that runs while outerFactor is less than or equal to 10.\n",
    "Initialize the Inner Loop Variable:\n",
    "\n",
    "Inside the outer loop, create another variable called innerFactor and set it to 1.\n",
    "Create the Inner Loop:\n",
    "\n",
    "Inside the outer loop, use another while loop that runs while innerFactor is less than or equal to 10.\n",
    "Calculate the Product:\n",
    "\n",
    "Inside the inner loop, calculate the product of outerFactor and innerFactor.\n",
    "Print the Product:\n",
    "\n",
    "Print the product using console.log(), formatting the output neatly.\n",
    "Increment the Inner Loop Variable:\n",
    "\n",
    "After printing the product, increment innerFactor by 1.\n",
    "Move to the Next Line:\n",
    "\n",
    "After the inner loop finishes, print a new line to separate rows.\n",
    "Increment the Outer Loop Variable:\n",
    "\n",
    "Increment outerFactor by 1 to move to the next row in the table."
   ]
  },
  {
   "cell_type": "code",
   "execution_count": 12,
   "metadata": {
    "vscode": {
     "languageId": "javascript"
    }
   },
   "outputs": [
    {
     "data": {
      "application/javascript": "let i = 0\nwhile(i < 10){\n    let ii = 0\n    i++\n    while(ii < 10){\n        ii++\n        console.log(ii * i)\n    }\n}\n",
      "text/plain": [
       "<IPython.core.display.Javascript object>"
      ]
     },
     "metadata": {},
     "output_type": "display_data"
    }
   ],
   "source": [
    "%%js\n",
    "let i = 0\n",
    "while(i < 10){\n",
    "    let ii = 0\n",
    "    i++\n",
    "    while(ii < 10){\n",
    "        ii++\n",
    "        console.log(ii * i)\n",
    "    }\n",
    "}\n"
   ]
  }
 ],
 "metadata": {
  "kernelspec": {
   "display_name": "venv",
   "language": "python",
   "name": "python3"
  },
  "language_info": {
   "codemirror_mode": {
    "name": "ipython",
    "version": 3
   },
   "file_extension": ".py",
   "mimetype": "text/x-python",
   "name": "python",
   "nbconvert_exporter": "python",
   "pygments_lexer": "ipython3",
   "version": "3.10.12"
  }
 },
 "nbformat": 4,
 "nbformat_minor": 2
}
