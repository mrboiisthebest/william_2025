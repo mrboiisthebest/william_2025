{
 "cells": [
  {
   "cell_type": "raw",
   "metadata": {
    "vscode": {
     "languageId": "raw"
    }
   },
   "source": [
    "---\n",
    "layout: post\n",
    "title: JavaScript Variables HW\n",
    "description: JavaScript Variables\n",
    "categories: [JavaScript]\n",
    "permalink: /csse/javascript/fundamentals/Variables/hw\n",
    "comments: True\n",
    "---"
   ]
  },
  {
   "cell_type": "markdown",
   "metadata": {},
   "source": [
    "# <span style=\"color: lavender; text-shadow: 2px 2px 5px lavender;\">Variables Homework (Show what you know!) </span>\n",
    "\n",
    "### Homework Problem: Understanding JavaScript Variables \n",
    "\n",
    "### <span style=\"color: pink; text-shadow: 2px 2px 5px pink;\"> Creating Variables</span>\n",
    "\n",
    "\n",
    "1. **Create three variables as an object variable**:\n",
    "   - A variable called `studentName` that stores your name as a string.\n",
    "   - A variable called `age` that stores your age as a number.\n",
    "   - A variable called `isStudent` that stores a boolean value indicating whether you are a student (use `true` or `false`).\n",
    "\n",
    "   2. **Create a function variable that displays that your favorite song is playing**:\n",
    "   \n",
    "      - A variable called `favoriteSong` that stores the name of your favorite song.\n",
    "      - A variable called `songArtist` that stores the song's artist.\n",
    "      - A function called `playFavoriteSong` that logs a message saying \"Now playing [favoriteSong] by [songArtist]\".\n",
    "\n",
    "\n",
    "\n",
    "3. **Using the variables you created**, write a sentence using `console.log()` to display:\n",
    "   - Your name.\n",
    "   - Your age.\n",
    "   - Whether you are a student.\n",
    "   - An output that states that your favorite song is now playing\n",
    "\n",
    "\n",
    "   Example output:\n",
    "My name is [Your Name], I am [Your Age] years old, and it is [true/false] that I am a student. \n",
    "Now playing Champion by Kanye West"
   ]
  },
  {
   "cell_type": "code",
   "execution_count": 27,
   "metadata": {
    "vscode": {
     "languageId": "html"
    }
   },
   "outputs": [
    {
     "data": {
      "text/html": [
       "\n",
       "<div id=\"songName\">song Name</div>\n",
       "<div id=\"artistName\">artist Name</div>\n",
       "<div id=\"stats\"></div>\n",
       "<button onclick=\"nextSong()\">Play Next Song</button>\n",
       "<button onclick=\"FavoriteSong()\">Play Favorite Song</button>\n",
       "\n"
      ],
      "text/plain": [
       "<IPython.core.display.HTML object>"
      ]
     },
     "metadata": {},
     "output_type": "display_data"
    }
   ],
   "source": [
    "%%html\n",
    "\n",
    "<div id=\"songName\">song Name</div>\n",
    "<div id=\"artistName\">artist Name</div>\n",
    "<div id=\"stats\"></div>\n",
    "<button onclick=\"nextSong()\">Play Next Song</button>\n",
    "<button onclick=\"FavoriteSong()\">Play Favorite Song</button>\n",
    "\n"
   ]
  },
  {
   "cell_type": "code",
   "execution_count": 28,
   "metadata": {
    "tags": [
     "parameters"
    ],
    "vscode": {
     "languageId": "javascript"
    }
   },
   "outputs": [
    {
     "data": {
      "application/javascript": "/*\nCODE DOES NOT RUN ON THE WEBSITE!!! \nTO MAKE IT RUN IN JUPY RUN HTML THEN THE JS\n*/\n\nconsole.log(\"Loaded the js\")\nlet songs = [\n    { name: \"Peanut Butter Jelly Time\", artist: \"DJ Chipman\" },\n    { name: \"Raining Tacos\", artist: \"Parry Gripp\" },\n    { name: \"The Duck Song\", artist: \"Bryant Oden\" },\n    { name: \"I'm a Coconut\", artist: \"Coconut Hen\" },\n    { name: \"Cheese Tax\", artist: \"Puppy Songs\" }\n];\nlet student = {\n    Name : \"Larry\",\n    Age : \"-76\",\n    Demon : true,\n    FavSong : songs[1]\n}\n\nconst songName = document.getElementById(\"songName\");\nconst artistName = document.getElementById(\"artistName\");\nconst stats = document.getElementById(\"stats\")\n\nstats.innerHTML = (\"Picked by: \" + student.Name)\n\nlet currentSong = 1; \n\nwindow.nextSong = function() {\n    if (currentSong > songs.length) {\n        currentSong = 1;\n    }\n    let song = songs[currentSong - 1]; \n    console.log(song)\n    if (song) {\n        songName.innerHTML = \"Song: \" + song.name;\n        artistName.innerHTML = \"Artist: \" + song.artist;\n    } else {\n        console.log(\"Song not found at index:\", currentSong - 1);\n    }\n   currentSong = currentSong + 1;\n};\n\nwindow.nextSong(window.currentSong);\n\nwindow.FavoriteSong = function(){\n    songName.innerHTML = \"Song: \" + student.FavSong.name;\n    artistName.innerHTML = \"Artist: \" + student.FavSong.artist;\n}\n",
      "text/plain": [
       "<IPython.core.display.Javascript object>"
      ]
     },
     "metadata": {},
     "output_type": "display_data"
    }
   ],
   "source": [
    "%%javascript\n",
    "/*\n",
    "CODE DOES NOT RUN ON THE WEBSITE!!! \n",
    "TO MAKE IT RUN IN JUPY RUN HTML THEN THE JS\n",
    "*/\n",
    "\n",
    "console.log(\"Loaded the js\")\n",
    "let songs = [\n",
    "    { name: \"Peanut Butter Jelly Time\", artist: \"DJ Chipman\" },\n",
    "    { name: \"Raining Tacos\", artist: \"Parry Gripp\" },\n",
    "    { name: \"The Duck Song\", artist: \"Bryant Oden\" },\n",
    "    { name: \"I'm a Coconut\", artist: \"Coconut Hen\" },\n",
    "    { name: \"Cheese Tax\", artist: \"Puppy Songs\" }\n",
    "];\n",
    "let student = {\n",
    "    Name : \"Larry\",\n",
    "    Age : \"-76\",\n",
    "    Demon : true,\n",
    "    FavSong : songs[1]\n",
    "}\n",
    "\n",
    "const songName = document.getElementById(\"songName\");\n",
    "const artistName = document.getElementById(\"artistName\");\n",
    "const stats = document.getElementById(\"stats\")\n",
    "\n",
    "stats.innerHTML = (\"Picked by: \" + student.Name)\n",
    "\n",
    "let currentSong = 1; \n",
    "\n",
    "window.nextSong = function() {\n",
    "    if (currentSong > songs.length) {\n",
    "        currentSong = 1;\n",
    "    }\n",
    "    let song = songs[currentSong - 1]; \n",
    "    console.log(song)\n",
    "    if (song) {\n",
    "        songName.innerHTML = \"Song: \" + song.name;\n",
    "        artistName.innerHTML = \"Artist: \" + song.artist;\n",
    "    } else {\n",
    "        console.log(\"Song not found at index:\", currentSong - 1);\n",
    "    }\n",
    "   currentSong = currentSong + 1;\n",
    "};\n",
    "\n",
    "window.nextSong(window.currentSong);\n",
    "\n",
    "window.FavoriteSong = function(){\n",
    "    songName.innerHTML = \"Song: \" + student.FavSong.name;\n",
    "    artistName.innerHTML = \"Artist: \" + student.FavSong.artist;\n",
    "}"
   ]
  }
 ],
 "metadata": {
  "kernelspec": {
   "display_name": "venv",
   "language": "python",
   "name": "python3"
  },
  "language_info": {
   "codemirror_mode": {
    "name": "ipython",
    "version": 3
   },
   "file_extension": ".py",
   "mimetype": "text/x-python",
   "name": "python",
   "nbconvert_exporter": "python",
   "pygments_lexer": "ipython3",
   "version": "3.10.12"
  }
 },
 "nbformat": 4,
 "nbformat_minor": 2
}
