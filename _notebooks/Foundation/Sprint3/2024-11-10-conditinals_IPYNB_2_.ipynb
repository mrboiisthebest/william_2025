{
 "cells": [
  {
   "cell_type": "raw",
   "metadata": {},
   "source": [
    "---\n",
    "comments: True\n",
    "layout: post\n",
    "title: Sprites/Loops Hacks\n",
    "description: An introduction to JavaScript sprites and loops\n",
    "permalink: /csse/javascript/fundamentals/conditionals\n",
    "type: ccc\n",
    "---"
   ]
  },
  {
   "cell_type": "markdown",
   "metadata": {},
   "source": [
    "# If Statement"
   ]
  },
  {
   "cell_type": "code",
   "execution_count": 70,
   "metadata": {
    "vscode": {
     "languageId": "javascript"
    }
   },
   "outputs": [
    {
     "data": {
      "application/javascript": "\nlet fruit = \"apple\"\n\nif (fruit === \"apple\"){\n    console.log(\"Thats sounds super yummy!\")\n}\n",
      "text/plain": [
       "<IPython.core.display.Javascript object>"
      ]
     },
     "metadata": {},
     "output_type": "display_data"
    }
   ],
   "source": [
    "%%javascript\n",
    "\n",
    "let fruit = \"apple\"\n",
    "\n",
    "if (fruit === \"apple\"){\n",
    "    console.log(\"Thats sounds super yummy!\")\n",
    "}"
   ]
  },
  {
   "cell_type": "markdown",
   "metadata": {},
   "source": [
    "# If Else / If Elseif"
   ]
  },
  {
   "cell_type": "code",
   "execution_count": 69,
   "metadata": {
    "vscode": {
     "languageId": "javascript"
    }
   },
   "outputs": [
    {
     "data": {
      "application/javascript": "\nlet fruit = \"not a good fruit\"\n\nif (fruit === \"apple\"){\n    console.log(\"Thats sounds super yummy!\")\n}else{\n    console.log(\"YUCK! THATS NOT YUMMY\")\n}\n",
      "text/plain": [
       "<IPython.core.display.Javascript object>"
      ]
     },
     "metadata": {},
     "output_type": "display_data"
    }
   ],
   "source": [
    "%%javascript\n",
    "\n",
    "let fruit = \"not a good fruit\"\n",
    "\n",
    "if (fruit === \"apple\"){\n",
    "    console.log(\"Thats sounds super yummy!\")\n",
    "}else{\n",
    "    console.log(\"YUCK! THATS NOT YUMMY\")\n",
    "}"
   ]
  },
  {
   "cell_type": "code",
   "execution_count": 68,
   "metadata": {
    "vscode": {
     "languageId": "javascript"
    }
   },
   "outputs": [
    {
     "data": {
      "application/javascript": "\nlet fruit = \"banana\"\n\nif (fruit === \"apple\"){\n    console.log(\"Thats sounds super yummy!\")\n}else{if (fruit === \"banana\"){ \nconsole.log(\"Sounds great!\")\n}else{\n    console.log(\"YUCK! THATS NOT YUMMY\")\n}\n}\n",
      "text/plain": [
       "<IPython.core.display.Javascript object>"
      ]
     },
     "metadata": {},
     "output_type": "display_data"
    }
   ],
   "source": [
    "%%javascript\n",
    "\n",
    "let fruit = \"banana\"\n",
    "\n",
    "if (fruit === \"apple\"){\n",
    "    console.log(\"Thats sounds super yummy!\")\n",
    "}else{if (fruit === \"banana\"){ \n",
    "console.log(\"Sounds great!\")\n",
    "}else{\n",
    "    console.log(\"YUCK! THATS NOT YUMMY\")\n",
    "}\n",
    "}"
   ]
  },
  {
   "cell_type": "markdown",
   "metadata": {},
   "source": [
    "### How to setup these conditionals"
   ]
  },
  {
   "cell_type": "markdown",
   "metadata": {},
   "source": [
    " "
   ]
  },
  {
   "cell_type": "markdown",
   "metadata": {},
   "source": [
    "# Types of logics for your conditionals\n",
    "\n",
    "Some types of conditinals to compare,constrast add, or, ect 2+ values which eaither runs the loop our countinues to the next segment or next part of the code.\n",
    "```bullets\n",
    "- == value is equal to\n",
    "- === value is strictly equal to (used for strings and more)\n",
    "- != not equal to\n",
    "- !== is not equal to (used for strings and more)\n",
    "- > greater than\n",
    "- < less than\n",
    "- >= greater than or equal to\n",
    "- <= less than or equal to\n",
    "- && and (ex: if(fruit === \"apple\" && isRipe == true))\n",
    "- || or  (ex: if(fruit === \"apple\" || fruit ===\"banana\"))\n",
    "- ! is not\n",
    "```"
   ]
  },
  {
   "cell_type": "markdown",
   "metadata": {},
   "source": [
    "# Swich Statements"
   ]
  },
  {
   "cell_type": "code",
   "execution_count": 67,
   "metadata": {
    "vscode": {
     "languageId": "javascript"
    }
   },
   "outputs": [
    {
     "data": {
      "application/javascript": "\nlet fruit = \"apple\"\nlet output\n\nswitch(fruit){\n    case \"apple\":\n        output = \"Apples sound great!\"\n        break;\n    case \"banana\":\n        output = \"Bananas sound great!\"\n        break;\n    case \"durian\":\n        output = \"YUCK!\"\n        break;\n    case  \"\":\n        output = \"I was looking forward to eating this week :(\"\n        break;\n}\n\nconsole.log(output)\n",
      "text/plain": [
       "<IPython.core.display.Javascript object>"
      ]
     },
     "metadata": {},
     "output_type": "display_data"
    }
   ],
   "source": [
    "%%javascript\n",
    "\n",
    "let fruit = \"apple\"\n",
    "let output\n",
    "\n",
    "switch(fruit){\n",
    "    case \"apple\":\n",
    "        output = \"Apples sound great!\"\n",
    "        break;\n",
    "    case \"banana\":\n",
    "        output = \"Bananas sound great!\"\n",
    "        break;\n",
    "    case \"durian\":\n",
    "        output = \"YUCK!\"\n",
    "        break;\n",
    "    case  \"\":\n",
    "        output = \"I was looking forward to eating this week :(\"\n",
    "        break;\n",
    "}\n",
    "\n",
    "console.log(output)\n"
   ]
  },
  {
   "cell_type": "markdown",
   "metadata": {},
   "source": [
    "# Ternary Operator"
   ]
  },
  {
   "cell_type": "code",
   "execution_count": 66,
   "metadata": {
    "vscode": {
     "languageId": "javascript"
    }
   },
   "outputs": [
    {
     "data": {
      "application/javascript": "let fruit = \"2\";\nlet message = (fruit >= \"apple\") ? \"this item is super effective\" : \"item is bad bad\";\nconsole.log(message); // Output: You can vote.\n",
      "text/plain": [
       "<IPython.core.display.Javascript object>"
      ]
     },
     "metadata": {},
     "output_type": "display_data"
    }
   ],
   "source": [
    "%%javascript\n",
    "let fruit = \"apple\";\n",
    "let message = (fruit >= \"apple\") ? \"this item is super effective\" : \"item is bad bad\";\n",
    "console.log(message); "
   ]
  },
  {
   "cell_type": "markdown",
   "metadata": {},
   "source": [
    "## How it works"
   ]
  },
  {
   "cell_type": "markdown",
   "metadata": {},
   "source": []
  },
  {
   "cell_type": "markdown",
   "metadata": {},
   "source": [
    "# QUIZ :]"
   ]
  },
  {
   "cell_type": "markdown",
   "metadata": {},
   "source": []
  }
 ],
 "metadata": {
  "kernelspec": {
   "display_name": "venv",
   "language": "python",
   "name": "python3"
  },
  "language_info": {
   "codemirror_mode": {
    "name": "ipython",
    "version": 3
   },
   "file_extension": ".py",
   "mimetype": "text/x-python",
   "name": "python",
   "nbconvert_exporter": "python",
   "pygments_lexer": "ipython3",
   "version": "3.10.12"
  }
 },
 "nbformat": 4,
 "nbformat_minor": 2
}
